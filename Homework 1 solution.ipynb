{
 "cells": [
  {
   "cell_type": "markdown",
   "metadata": {},
   "source": [
    "# Homework 1\n",
    "\n",
    "The solution to the homework for the first session."
   ]
  },
  {
   "cell_type": "code",
   "execution_count": 14,
   "metadata": {},
   "outputs": [],
   "source": [
    "import os\n",
    "\n",
    "# Open the file for reading\n",
    "filename = os.path.join('data', '03_Prod.mdout')\n",
    "f = open(filename, 'r')\n",
    "\n",
    "# Read the data in the file\n",
    "data = f.readlines()\n",
    "f.close()\n",
    "\n",
    "# Open a file for writing\n",
    "f_write = open('EtotSol.txt','w+')\n",
    "f_write.write('Total Energy\\n')\n",
    "\n",
    "# Loop through lines in the file\n",
    "for line in data:\n",
    "    split_line = line.split( )\n",
    "    if 'Etot' in line:\n",
    "        f_write.write(F'{split_line[2]}\\n')\n",
    "\n",
    "# Write information to new file\n",
    "        \n",
    "f_write.close()"
   ]
  },
  {
   "cell_type": "code",
   "execution_count": null,
   "metadata": {},
   "outputs": [],
   "source": []
  }
 ],
 "metadata": {
  "kernelspec": {
   "display_name": "Python 3",
   "language": "python",
   "name": "python3"
  },
  "language_info": {
   "codemirror_mode": {
    "name": "ipython",
    "version": 3
   },
   "file_extension": ".py",
   "mimetype": "text/x-python",
   "name": "python",
   "nbconvert_exporter": "python",
   "pygments_lexer": "ipython3",
   "version": "3.7.6"
  }
 },
 "nbformat": 4,
 "nbformat_minor": 4
}
