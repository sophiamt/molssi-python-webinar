{
 "cells": [
  {
   "cell_type": "markdown",
   "metadata": {},
   "source": [
    "# Session 2 HW\n",
    "\n",
    "Calculating the distance between atoms in water"
   ]
  },
  {
   "cell_type": "code",
   "execution_count": 7,
   "metadata": {},
   "outputs": [
    {
     "name": "stdout",
     "output_type": "stream",
     "text": [
      "[['O' '0.000000' '-0.007156' '0.965491']\n",
      " ['H1' '-0.000000' '0.001486' '-0.003471']\n",
      " ['H2' '0.000000' '0.931026' '1.207929']]\n"
     ]
    }
   ],
   "source": [
    "# import file using numpy\n",
    "import os\n",
    "import numpy\n",
    "file = os.path.join('data','water.xyz')\n",
    "coordata = numpy.genfromtxt(fname=file, dtype='unicode', skip_header=2)\n",
    "print(coordata)"
   ]
  },
  {
   "cell_type": "code",
   "execution_count": 9,
   "metadata": {},
   "outputs": [
    {
     "name": "stdout",
     "output_type": "stream",
     "text": [
      "['O' 'H1' 'H2']\n",
      "[['0.000000' '-0.007156' '0.965491']\n",
      " ['-0.000000' '0.001486' '-0.003471']\n",
      " ['0.000000' '0.931026' '1.207929']]\n"
     ]
    }
   ],
   "source": [
    "# separate numbers and words\n",
    "atoms=coordata[:,0]\n",
    "print(atoms)\n",
    "coords=coordata[:,1:]\n",
    "print(coords)"
   ]
  },
  {
   "cell_type": "code",
   "execution_count": 11,
   "metadata": {},
   "outputs": [
    {
     "name": "stdout",
     "output_type": "stream",
     "text": [
      "[[ 0.       -0.007156  0.965491]\n",
      " [-0.        0.001486 -0.003471]\n",
      " [ 0.        0.931026  1.207929]]\n"
     ]
    }
   ],
   "source": [
    "# convert numbers to float\n",
    "coords=coords.astype(numpy.float)\n",
    "print(coords)"
   ]
  },
  {
   "cell_type": "code",
   "execution_count": 28,
   "metadata": {},
   "outputs": [
    {
     "name": "stdout",
     "output_type": "stream",
     "text": [
      "0.9690005374652793\n",
      "3\n"
     ]
    }
   ],
   "source": [
    "# calculate distances using distance formula \n",
    "# distance formula is sqrt((x2-x1)^2 + (y2-y1)^2 +(z2-z1)^2)\n",
    "distance=numpy.sqrt(((coords[1,0]-coords[0,0])**2) + ((coords[1,1]-coords[0,1])**2) + ((coords[1,2]-coords[0,2])**2))\n",
    "print(distance)\n",
    "num_col=len(coords[0:])\n",
    "print(num_col)"
   ]
  },
  {
   "cell_type": "code",
   "execution_count": 51,
   "metadata": {},
   "outputs": [
    {
     "name": "stdout",
     "output_type": "stream",
     "text": [
      "O to O: 0.000\n",
      "O to H1: 0.969\n",
      "O to H2: 0.969\n",
      "H1 to O: 0.969\n",
      "H1 to H1: 0.000\n",
      "H1 to H2: 1.527\n",
      "H2 to O: 0.969\n",
      "H2 to H1: 1.527\n",
      "H2 to H2: 0.000\n"
     ]
    }
   ],
   "source": [
    "# loop through every possible combination\n",
    "# add labels\n",
    "for i in range(0,num_col):\n",
    "    for j in range (0,num_col):\n",
    "        distance=numpy.sqrt(((coords[j,0]-coords[i,0])**2) + ((coords[j,1]-coords[i,1])**2) + ((coords[j,2]-coords[i,2])**2))\n",
    "        print(F'{atoms[i]} to {atoms[j]}: {distance:.3f}')"
   ]
  },
  {
   "cell_type": "code",
   "execution_count": 2,
   "metadata": {},
   "outputs": [],
   "source": [
    "import os\n",
    "import numpy\n",
    "data_loc = os.path.join('data','water.xyz')\n",
    "coordata = numpy.genfromtxt(fname=data_loc, dtype='unicode', skip_header=2)\n",
    "atoms=coordata[:,0]\n",
    "coords=coordata[:,1:]\n",
    "coords=coords.astype(numpy.float)\n",
    "num_col=len(coords[0:])\n",
    "file=open('bond_lengths.txt','w+')\n",
    "for i in range(0,num_col):\n",
    "    for j in range (0,num_col):\n",
    "        distance=numpy.sqrt((coords[j,0]-coords[i,0])**2 + (coords[j,1]-coords[i,1])**2 + (coords[j,2]-coords[i,2])**2)\n",
    "        if distance<=1.5 and i>j:\n",
    "            file.write(F'{atoms[i]} to {atoms[j]}: {distance:.3f} \\n')\n",
    "file.close()"
   ]
  },
  {
   "cell_type": "code",
   "execution_count": null,
   "metadata": {},
   "outputs": [],
   "source": []
  },
  {
   "cell_type": "code",
   "execution_count": null,
   "metadata": {},
   "outputs": [],
   "source": []
  }
 ],
 "metadata": {
  "kernelspec": {
   "display_name": "Python 3",
   "language": "python",
   "name": "python3"
  },
  "language_info": {
   "codemirror_mode": {
    "name": "ipython",
    "version": 3
   },
   "file_extension": ".py",
   "mimetype": "text/x-python",
   "name": "python",
   "nbconvert_exporter": "python",
   "pygments_lexer": "ipython3",
   "version": "3.7.6"
  }
 },
 "nbformat": 4,
 "nbformat_minor": 4
}
